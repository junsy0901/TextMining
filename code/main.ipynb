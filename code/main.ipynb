{
 "cells": [
  {
   "cell_type": "markdown",
   "id": "332b0304",
   "metadata": {},
   "source": [
    "# 🔗 유불리 판단 + 유사 조항 검색 + Ollama 기반 LLM 설명 생성"
   ]
  },
  {
   "cell_type": "markdown",
   "id": "6d9345eb",
   "metadata": {},
   "source": [
    "### 환경 테스트 코드(GPU 사용할 때)"
   ]
  },
  {
   "cell_type": "code",
   "execution_count": 1,
   "id": "a49eca63",
   "metadata": {},
   "outputs": [
    {
     "name": "stdout",
     "output_type": "stream",
     "text": [
      "=== 환경 검증 ===\n",
      "Python: 3.10.11 (tags/v3.10.11:7d4cc5a, Apr  5 2023, 00:38:17) [MSC v.1929 64 bit (AMD64)]\n",
      "NumPy: 1.24.4\n",
      "PyTorch: 2.1.0+cu118\n",
      "CUDA 사용 가능: True\n",
      "GPU 테스트 성공: cuda:0\n",
      "GPU 이름: GeForce GTX 1050 Ti\n"
     ]
    },
    {
     "data": {
      "application/vnd.jupyter.widget-view+json": {
       "model_id": "e4408e29ba054cef8fb22e99072f3837",
       "version_major": 2,
       "version_minor": 0
      },
      "text/plain": [
       "modules.json:   0%|          | 0.00/349 [00:00<?, ?B/s]"
      ]
     },
     "metadata": {},
     "output_type": "display_data"
    },
    {
     "name": "stderr",
     "output_type": "stream",
     "text": [
      "c:\\Users\\jhg-pc-02\\Documents\\TextMining\\TextMining\\.venv\\lib\\site-packages\\huggingface_hub\\file_download.py:143: UserWarning: `huggingface_hub` cache-system uses symlinks by default to efficiently store duplicated files but your machine does not support them in C:\\Users\\jhg-pc-02\\.cache\\huggingface\\hub\\models--sentence-transformers--all-MiniLM-L6-v2. Caching files will still work but in a degraded version that might require more space on your disk. This warning can be disabled by setting the `HF_HUB_DISABLE_SYMLINKS_WARNING` environment variable. For more details, see https://huggingface.co/docs/huggingface_hub/how-to-cache#limitations.\n",
      "To support symlinks on Windows, you either need to activate Developer Mode or to run Python as an administrator. In order to activate developer mode, see this article: https://docs.microsoft.com/en-us/windows/apps/get-started/enable-your-device-for-development\n",
      "  warnings.warn(message)\n"
     ]
    },
    {
     "data": {
      "application/vnd.jupyter.widget-view+json": {
       "model_id": "e0d3359a95ba437aa26145f03bb2061c",
       "version_major": 2,
       "version_minor": 0
      },
      "text/plain": [
       "config_sentence_transformers.json:   0%|          | 0.00/116 [00:00<?, ?B/s]"
      ]
     },
     "metadata": {},
     "output_type": "display_data"
    },
    {
     "data": {
      "application/vnd.jupyter.widget-view+json": {
       "model_id": "a24ec19103234a3eace87e652e5ef63d",
       "version_major": 2,
       "version_minor": 0
      },
      "text/plain": [
       "README.md:   0%|          | 0.00/10.5k [00:00<?, ?B/s]"
      ]
     },
     "metadata": {},
     "output_type": "display_data"
    },
    {
     "data": {
      "application/vnd.jupyter.widget-view+json": {
       "model_id": "3f1081913b2246b49c9e4c474bfaf820",
       "version_major": 2,
       "version_minor": 0
      },
      "text/plain": [
       "sentence_bert_config.json:   0%|          | 0.00/53.0 [00:00<?, ?B/s]"
      ]
     },
     "metadata": {},
     "output_type": "display_data"
    },
    {
     "data": {
      "application/vnd.jupyter.widget-view+json": {
       "model_id": "46f0f8869c5244fb856405b0643f70df",
       "version_major": 2,
       "version_minor": 0
      },
      "text/plain": [
       "config.json:   0%|          | 0.00/612 [00:00<?, ?B/s]"
      ]
     },
     "metadata": {},
     "output_type": "display_data"
    },
    {
     "name": "stderr",
     "output_type": "stream",
     "text": [
      "Xet Storage is enabled for this repo, but the 'hf_xet' package is not installed. Falling back to regular HTTP download. For better performance, install the package with: `pip install huggingface_hub[hf_xet]` or `pip install hf_xet`\n"
     ]
    },
    {
     "data": {
      "application/vnd.jupyter.widget-view+json": {
       "model_id": "d097d763d4c046c89e63f28769e818dd",
       "version_major": 2,
       "version_minor": 0
      },
      "text/plain": [
       "model.safetensors:   0%|          | 0.00/90.9M [00:00<?, ?B/s]"
      ]
     },
     "metadata": {},
     "output_type": "display_data"
    },
    {
     "data": {
      "application/vnd.jupyter.widget-view+json": {
       "model_id": "dd3c5909a5324ae9956984a668e42b38",
       "version_major": 2,
       "version_minor": 0
      },
      "text/plain": [
       "tokenizer_config.json:   0%|          | 0.00/350 [00:00<?, ?B/s]"
      ]
     },
     "metadata": {},
     "output_type": "display_data"
    },
    {
     "data": {
      "application/vnd.jupyter.widget-view+json": {
       "model_id": "d34fdc741a354ac3b36a4cf1548975b8",
       "version_major": 2,
       "version_minor": 0
      },
      "text/plain": [
       "vocab.txt:   0%|          | 0.00/232k [00:00<?, ?B/s]"
      ]
     },
     "metadata": {},
     "output_type": "display_data"
    },
    {
     "data": {
      "application/vnd.jupyter.widget-view+json": {
       "model_id": "fae55722c04447b2831a3f5ec75d483a",
       "version_major": 2,
       "version_minor": 0
      },
      "text/plain": [
       "tokenizer.json:   0%|          | 0.00/466k [00:00<?, ?B/s]"
      ]
     },
     "metadata": {},
     "output_type": "display_data"
    },
    {
     "data": {
      "application/vnd.jupyter.widget-view+json": {
       "model_id": "edb0cb46b9794cd885f031ce04c850b0",
       "version_major": 2,
       "version_minor": 0
      },
      "text/plain": [
       "special_tokens_map.json:   0%|          | 0.00/112 [00:00<?, ?B/s]"
      ]
     },
     "metadata": {},
     "output_type": "display_data"
    },
    {
     "data": {
      "application/vnd.jupyter.widget-view+json": {
       "model_id": "b4bfb9d454674791b1d2b67dda781ba7",
       "version_major": 2,
       "version_minor": 0
      },
      "text/plain": [
       "config.json:   0%|          | 0.00/190 [00:00<?, ?B/s]"
      ]
     },
     "metadata": {},
     "output_type": "display_data"
    },
    {
     "name": "stdout",
     "output_type": "stream",
     "text": [
      "✅ Sentence Transformers 정상 작동: (2, 384)\n",
      "=== 설치 완료 ===\n"
     ]
    }
   ],
   "source": [
    "# 설치 완료 후 실행할 검증 코드\n",
    "import torch\n",
    "import numpy as np\n",
    "from transformers import AutoTokenizer\n",
    "from sentence_transformers import SentenceTransformer\n",
    "\n",
    "print(\"=== 환경 검증 ===\")\n",
    "print(f\"Python: {__import__('sys').version}\")\n",
    "print(f\"NumPy: {np.__version__}\")\n",
    "print(f\"PyTorch: {torch.__version__}\")\n",
    "print(f\"CUDA 사용 가능: {torch.cuda.is_available()}\")\n",
    "\n",
    "# GPU 테스트\n",
    "if torch.cuda.is_available():\n",
    "    device = torch.device(\"cuda\")\n",
    "    x = torch.rand(5, 3).to(device)\n",
    "    print(f\"GPU 테스트 성공: {x.device}\")\n",
    "    print(f\"GPU 이름: {torch.cuda.get_device_name(0)}\")\n",
    "else:\n",
    "    print(\"GPU 사용 불가 - CPU 모드\")\n",
    "\n",
    "# Sentence Transformers 테스트\n",
    "try:\n",
    "    model = SentenceTransformer('all-MiniLM-L6-v2')\n",
    "    test_text = [\"안녕하세요\", \"테스트 문장입니다\"]\n",
    "    embeddings = model.encode(test_text)\n",
    "    print(f\"✅ Sentence Transformers 정상 작동: {embeddings.shape}\")\n",
    "except Exception as e:\n",
    "    print(f\"❌ Sentence Transformers 오류: {e}\")\n",
    "\n",
    "print(\"=== 설치 완료 ===\")\n"
   ]
  },
  {
   "cell_type": "markdown",
   "id": "6790ba51",
   "metadata": {},
   "source": [
    "### 실행 코드"
   ]
  },
  {
   "cell_type": "code",
   "execution_count": 2,
   "id": "7ce7ee26",
   "metadata": {},
   "outputs": [],
   "source": [
    "import torch\n",
    "from sentence_transformers import SentenceTransformer, util\n",
    "from transformers import AutoTokenizer, AutoModelForSequenceClassification\n",
    "from langchain.chains import LLMChain\n",
    "from langchain.prompts import PromptTemplate\n",
    "from langchain_community.chat_models import ChatOllama\n"
   ]
  },
  {
   "cell_type": "code",
   "execution_count": 3,
   "id": "7b20ffce",
   "metadata": {},
   "outputs": [
    {
     "name": "stdout",
     "output_type": "stream",
     "text": [
      "Device: cuda\n",
      "Embeddings device: cuda:0\n"
     ]
    }
   ],
   "source": [
    "# 유불리 판단 모델\n",
    "classification_dir = \"../model/classification\"\n",
    "classifier_model = AutoModelForSequenceClassification.from_pretrained(classification_dir)\n",
    "classifier_tokenizer = AutoTokenizer.from_pretrained(classification_dir)\n",
    "\n",
    "# 의미 임베딩 모델\n",
    "semantic_dir = \"../model/legal-kr-sbert-contrastive\"\n",
    "device = torch.device(\"cuda\" if torch.cuda.is_available() else \"cpu\")\n",
    "semantic_model = SentenceTransformer(semantic_dir).to(device)\n",
    "\n",
    "dataset = torch.load(\n",
    "    \"embedding_dataset.pt\",\n",
    "    map_location=lambda storage, loc: storage.cuda() if torch.cuda.is_available() else storage\n",
    ")\n",
    "\n",
    "texts = dataset[\"texts\"]\n",
    "embeddings = dataset[\"embeddings\"].to(device)\n",
    "\n",
    "print(f\"Device: {device}\")\n",
    "print(f\"Embeddings device: {embeddings.device}\")\n"
   ]
  },
  {
   "cell_type": "code",
   "execution_count": 4,
   "id": "b5806049",
   "metadata": {},
   "outputs": [],
   "source": [
    "def predict_unfairness(clauses):\n",
    "    inputs = classifier_tokenizer(clauses, padding=True, truncation=True, return_tensors=\"pt\")\n",
    "    outputs = classifier_model(**inputs)\n",
    "    preds = torch.argmax(outputs.logits, dim=1)\n",
    "    return preds.tolist()  # 0: 유리, 1: 불리"
   ]
  },
  {
   "cell_type": "code",
   "execution_count": 5,
   "id": "415a1e3f",
   "metadata": {},
   "outputs": [],
   "source": [
    "import pandas as pd\n",
    "\n",
    "# labeled.csv 읽기\n",
    "df = pd.read_csv(\"labeled.csv\")  # 또는 정확한 경로"
   ]
  },
  {
   "cell_type": "code",
   "execution_count": 6,
   "id": "68942fc6",
   "metadata": {},
   "outputs": [],
   "source": [
    "def get_similar_clauses(query, top_k=5):\n",
    "    query_emb = semantic_model.encode(query, convert_to_tensor=True)\n",
    "    cos_scores = util.pytorch_cos_sim(query_emb, embeddings)[0]\n",
    "    top_results = torch.topk(cos_scores, k=top_k)\n",
    "\n",
    "    results = []\n",
    "    for idx in top_results.indices:\n",
    "        clause = texts[idx]\n",
    "        # labeled.csv에서 basis 찾기\n",
    "        matched = df[df[\"text\"] == clause]\n",
    "        basis = matched[\"basis\"].values[0] if not matched.empty else \"\"\n",
    "        results.append({\"clause\": clause, \"basis\": basis})\n",
    "    \n",
    "    return results\n"
   ]
  },
  {
   "cell_type": "code",
   "execution_count": 7,
   "id": "a47cc600",
   "metadata": {},
   "outputs": [
    {
     "name": "stderr",
     "output_type": "stream",
     "text": [
      "C:\\Users\\jhg-pc-02\\AppData\\Local\\Temp\\ipykernel_18420\\2084197299.py:2: LangChainDeprecationWarning: The class `ChatOllama` was deprecated in LangChain 0.3.1 and will be removed in 1.0.0. An updated version of the class exists in the :class:`~langchain-ollama package and should be used instead. To use it run `pip install -U :class:`~langchain-ollama` and import as `from :class:`~langchain_ollama import ChatOllama``.\n",
      "  llm = ChatOllama(model=\"anpigon/EEVE-Korean-10.8B:latest\")\n",
      "C:\\Users\\jhg-pc-02\\AppData\\Local\\Temp\\ipykernel_18420\\2084197299.py:19: LangChainDeprecationWarning: The class `LLMChain` was deprecated in LangChain 0.1.17 and will be removed in 1.0. Use :meth:`~RunnableSequence, e.g., `prompt | llm`` instead.\n",
      "  llm_chain = LLMChain(llm=llm, prompt=prompt_template)\n"
     ]
    }
   ],
   "source": [
    "# Ollama LLM 설정\n",
    "llm = ChatOllama(model=\"anpigon/EEVE-Korean-10.8B:latest\")\n",
    "\n",
    "# 프롬프트 템플릿\n",
    "prompt_template = PromptTemplate(\n",
    "    input_variables=[\"clause\", \"similar\"],\n",
    "    template=\"\"\"다음은 서비스 약관의 조항입니다:\n",
    "\n",
    "조항:\n",
    "{clause}\n",
    "\n",
    "유사한 조항들:\n",
    "{similar}\n",
    "\n",
    "이 조항이 왜 불리한지 설명해 주세요.\n",
    "\"\"\"\n",
    ")\n",
    "\n",
    "llm_chain = LLMChain(llm=llm, prompt=prompt_template)\n",
    "\n",
    "# 설명 생성 함수\n",
    "def generate_explanation(clause, similar_clauses):\n",
    "    similar_text = \"\\n\\n\".join(\n",
    "        [f\"- 조항:\\n{item['clause']}\\n설명:\\n{item.get('basis', '')}\" for item in similar_clauses]\n",
    "    )\n",
    "\n",
    "    return llm_chain.run({\n",
    "        \"clause\": clause,\n",
    "        \"similar\": similar_text\n",
    "    })"
   ]
  },
  {
   "cell_type": "code",
   "execution_count": 8,
   "id": "94d68b26",
   "metadata": {},
   "outputs": [
    {
     "name": "stdout",
     "output_type": "stream",
     "text": [
      "📥 여러 약관 조항을 한 줄씩 입력하세요. (빈 줄 입력 시 종료)\n",
      "\n"
     ]
    },
    {
     "name": "stderr",
     "output_type": "stream",
     "text": [
      "C:\\Users\\jhg-pc-02\\AppData\\Local\\Temp\\ipykernel_18420\\2084197299.py:27: LangChainDeprecationWarning: The method `Chain.run` was deprecated in langchain 0.1.0 and will be removed in 1.0. Use :meth:`~invoke` instead.\n",
      "  return llm_chain.run({\n"
     ]
    },
    {
     "name": "stdout",
     "output_type": "stream",
     "text": [
      "\n",
      "🔹 조항: 제10조(포인트 정정, 취소, 소멸)\\n제5항 본 조 제3항에도 불구하고 본 약관 제7조 제1항 및 제2항에 따라 카드 탈퇴 및 자격상실된회원은 포인트가 소멸되고, 이에 대하여 회원은 어떠한 권리 주장할 수 없습니다. \\n000의 경우, 기존 포인트 약관상  카드 해지 와  탈회 를 별도로 구분하지 아니하고,  탈퇴 라는 포괄적인 용어를 사용하였음.\n",
      "📎 유사 조항:\n",
      "1. {'clause': '(000 회원약관)\\n제10조(포인트 정정, 취소, 소멸)\\n제5항 본 조 제3항에도 불구하고 본 약관 제7조 제1항 및 제2항에 따라 카드 탈퇴 및 자격상실된 회원은 포인트가 소멸되고, 이에 대하여 회원은 어떠한 권리 주장할 수 없습니다.', 'basis': '특정 카드를 해지한 고객은 유효한 다른 카드를 이용하여 여전히 잔여포인트를 정상적으로 사용할 수 있는바, 해지 카드의 잔여포인트의 경우 해지 전 포인트와 그 취급을 달리할 특별한 이유가 존재하지 아니한다.'}\n",
      "2. {'clause': '제7조 (포인트의 소멸)1항\\n포인트는 다음 각 호에서 정한 유효기한 내에서 사용할 수 있으며 유효기간이 경과된 포인트는 월단위로 자동 소멸됩니다. 제7조 1항 1호\\n00000의 유효기한은 적립일로부터 5년입니다. 제7조 2항\\n제1항에도 불구하고 회원이 다음 각 호의 1에 해당하는 경우 적립된 포인트는 자동으로 소멸됩니다. 다만, 제1호 내지 제3호의 경우에는 그로 인하여 적립된 포인트만을 대상으로 합니다. 제7조2항 1호\\n입회신청서의 허위기재, 사위 등의 방법으로 카드가 부정 발급된 경우 제7조2항 2호\\n물품구매를 위장한 현금융통 등 불건전한 용도로 카드를 이용한 경우 제7조2항 3호\\n도난, 위,변조 등의 방법으로 카드를 이용한 경우 제7조2항 4호\\n법률 또는 회원의 요청으로 회원의 정보가 삭제되는 경우 제7조2항 5호\\n회원이 사망하거나 카드 이용계약이 해지, 해제, 취소 및 기타의 사유로 카드 이용계약이 종료된 경우', 'basis': '탈회 또는 개인정보삭제 요청과 잔여포인트 포기는 그 처분의 대상이 달라 각각 별도의 의사표시를 필요로 하는 것이 원칙이다. 위 심사대상 약관조항들은 고객이 탈회 또는 개인정보삭제를 요청했다는 이유만으로 잔여포인트에 대한 권리 포기 의사까지 표명된 것으로 의제하고 있다. 이는 일정한 작위가 있을 경우 고객의 의사표시가 표명된 것으로 의제하는 조항이다.'}\n",
      "3. {'clause': '제18조(회원자격상실, 이용정지 및 탈회)\\n제1항  회원에게 다음 각호의 1에 해당되는 사유가 발생하는 경우 회사는 회원의 자격을 상실시키거나 카드이용을 일시정지할 수 있습니다. 다만, 제3호 및 제4호의 사유로 인한 자격상실 또는 카드이용 일시정지일 경우에는 통보하지 않습니다.\\n제3호. 카드이용대금을 7일이상 연체하였을 경우\\n 제4호. 신용정보집중기관의 신용불량자, 타금융기관의 연체 등 기타 사유로 회원의 신용상태가 현저히 악화되었다고 판단되는 경우', 'basis': '신용카드사가 카드회원의 신용상태의 변화에 따라 회원자격을 정지하거나 카드사용을 일시정지 할 수 있을 것이나, 자격정지 및 일시정지 여부는 회원의 이해관계에 중대한 영향을 미치는 만큼 구체적이고 합리적인 기준과 절차에 따라 이루어져야 할 것이다. 타 금융기관의 연체 및 신용불량자 등재나, 일시정지의 경우에 있어서는 카드이용 특성(도덕적 해이 등)상 사전통보가 불가능하다면 사후에라도 통보함으로써 고객으로 하여금 불측의 피해를 예방할 수 있도록 하는 것이 계약의 신의성실의 원칙에 합당하다 할 것이다. 연체로 인한 신용상태의 악화 또는 신용불량자 등재가 있을 경우 사전 및 사후통보절차 없이 회원의 자격을 정지하거나 일시정지가 가능토록 규정하고 있는 위 약관조항은 법률의 규정에 의한 해제권,해지권의 행사요건을 완화하여 고객에 대하여 부당하게 불이익을 줄 우려가 있는 조항이자 고객에게 부당하게 불리한 조항이다.'}\n",
      "4. {'clause': '제20조(회원자격정지 및 탈회)\\n제1항 카드사는 회원이 다음 각호의 1에 해당되는 경우 별도의 통보절차 없이 회원의 자격을 정지하거나 카드사용을 일시정지할 수 있으며, 이 경우 회사는 정지사유 및 정지사실을 통보하도록 합니다. 다만, 제5호 및 제6호의 당해금융기관 및 타 금융기관 연체 타 금융기관 신용불량등록으로 인한 경우는 통보하지 않습니다.\\n제2항. 카드 사용대금을 카드사가 정한 거래정지기준 이상 연체하였을 경우\\n제6항. 신용정보집중기관의 신용불량 자, 타 금융기관 연체 등 기타 사유로 회원의 신용 신용상태가 현저히 악화되었다고 판단된 경우', 'basis': '신용카드사가 카드회원의 신용상태의 변화에 따라 회원자격을 정지하거나 카드사용을 일시정지 할 수 있을 것이나, 자격정지 및 일시정지 여부는 회원의 이해관계에 중대한 영향을 미치는 만큼 구체적이고 합리적인 기준과 절차에 따라 이루어져야 할 것이다. 결제대금 연체나 신용불량자 등재로 인한 회원의 자격정지는 카드사용을 일시정지한 후에도 가능할 것이므로 사전통지가 불가능하다고 볼 이유는 없다. 연체로 인한 신용상태의 악화 또는 신용불량자 등재가 있을 경우 사전 및 사후통보절차 없이 회원의 자격을 정지하거나 일시정지가 가능토록 규정하고 있는 위 약관조항은 법률의 규정에 의한 해제권․해지권의 행사요건을 완화하여 고객에 대하여 부당하게 불이익을 줄 우려가 있는 조항이자 고객에게 부당하게 불리한 조항이다.'}\n",
      "5. {'clause': '제19조(회원자격정지 및 탈회)\\n제1항 카드사는 회원이 다음 각호의 1에 해당되는 경우 회원의 자격및 카드이용을 일시정지할 수 있으며, 카드발급을 제한할 수 있습니다.\\n제5호 카드 이용대금, 카드론 대금 또는 기타 카드사에 대한 채무를 10일이상 또는 5만원이상 연체하였을 경우\\n제6호 신용정보집중기관 신용불량자로 판명되었을 경우\\n제7호 타금융기관의 연체정보 등 외부로부터 수집한 정보에 의하여 회원의 신용상태가 현저히 악화되었거나 악화될 가능성이 크다고  카드사가 판단하는 경우 \\n제2항 위 1호 내지 4호의 사유로 인해 회원의 자격 및 카드이용을 정지할 경우 회원에게 당해 정지사실 및 정지사유를 통보합니다.', 'basis': '회원의 자격정지 및 일시정지는 법률상 계약해제 또는 기한의 이익상실에 해당하는 것으로서 계약의 해제나 기한의 이익상실은 중도에 법률관계를 종료시키는 중대한 법률요건이므로 회원의 자격을 정지시키고자 할 경우에는 상당기간을 정하여 최고한 후 자격을 정지시킴이 타당하다. 결제대금 연체나 신용불량자 등재로 인한 회원의 자격정지는 카드사용을 일시정지한 후에도 가능할 것이므로 사전통지가 불가능하다고 볼 이유는 없다. 타 금융기관의 연체 및 신용불량자 등재나, 일시정지의 경우에 있어서는 카드이용 특성(도덕적 해이 등)상 사전통보가 불가능하다면 사후에라도 통보함으로써 고객으로 하여금 불측의 피해를 예방할 수 있도록 하는 것이 계약의 신의성실의 원칙에 합당하다 할 것이다. 연체로 인한 신용상태의 악화 또는 신용불량자 등재가 있을 경우 사전 및 사후통보절차 없이 회원의 자격을 정지하거나 일시정지가 가능토록 규정하고 있는 위 약관조항은 법률의 규정에 의한 해제권․해지권의 행사요건을 완화하여 고객에 대하여 부당하게 불이익을 줄 우려가 있는 조항이자 고객에게 부당하게 불리한 조항이다.'}\n",
      "\n",
      "🧠 설명:\n",
      "해당 약관 조항들이 불리하다고 판단되는 이유는 다음과 같습니다:\n",
      "\n",
      "1. 포인트 정정, 취소 및 소멸에 관한 조항들(제7조)에서는 특정 카드 해지와 탈퇴를 구분하지 않아 고객이 다른 유효한 카드를 보유하고 있음에도 불구하고 기존 포인트를 사용할 수 있는 권리를 상실할 수 있습니다. 이 조항들은 고객을 대신하여 공정하게 포인트를 관리해야 할 회사의 책임을 회피하려는 것으로 보이며, 고객에게 일방적으로 불리한 해석을 내포하고 있습니다.\n",
      "2. 회원 자격 상실, 이용 정지 및 탈회(제18조)에 관한 조항들에서는 신용등급이 하락한 경우 사전 통보 없이 고객 자격을 무단으로 정지하거나 일시정지를 할 수 있게 하여 고객의 이익과 권리를 과도하게 제한합니다. 이러한 접근 방식은 법적 요구 사항이나 신의성실 원칙에 부합하지 않습니다.\n",
      "3. 회원 자격 정지 및 탈회(제20조) 조항에서는 신용등급이 하락한 경우 사전 통보 없이 고객 자격을 무단으로 정지하거나 일시정지를 할 수 있게 하여 고객의 이익과 권리를 과도하게 제한합니다. 이는 고객에게 불리한 결과를 초래하며 법적 요구 사항이나 신의성실 원칙에 부합하지 않습니다.\n",
      "4. 회원 자격 정지와 카드 이용 제한(제19조) 조항에서는 신용등급이 하락한 경우 사전 통보 없이 고객 자격을 무단으로 정지하거나 일시정지를 할 수 있게 하여 고객의 이익과 권리를 과도하게 제한합니다. 이는 고객에게 불리한 결과를 초래하며 법적 요구 사항이나 신의성실 원칙에 부합하지 않습니다.\n",
      "5. 포인트 정정, 취소 및 소멸(제7조) 조항들은 해지와 탈퇴를 구분하지 않아 고객이 다른 유효한 카드를 보유하고 있음에도 불구하고 기존 포인트를 사용할 수 있는 권리를 상실할 수 있습니다. 이 조항들은 고객을 대신하여 공정하게 포인트를 관리해야 할 회사의 책임을 회피하려는 것으로 보이며, 고객에게 일방적으로 불리한 해석을 내포하고 있습니다.\n",
      "6. 회원 자격 정지 및 카드 이용 제한(제19조) 조항에서는 신용등급이 하락한 경우 사전 통보 없이 고객 자격을 무단으로 정지하거나 일시정지를 할 수 있게 하여 고객의 이익과 권리를 과도하게 제한합니다. 이는 고객에게 불리한 결과를 초래하며 법적 요구 사항이나 신의성실 원칙에 부합하지 않습니다.\n",
      "7. 포인트 정정, 취소 및 소멸(제7조) 조항들은 해지와 탈퇴를 구분하지 않아 고객이 다른 유효한 카드를 보유하고 있음에도 불구하고 기존 포인트를 사용할 수 있는 권리를 상실할 수 있습니다. 이 조항들은 고객을 대신하여 공정하게 포인트를 관리해야 할 회사의 책임을 회피하려는 것으로 보이며, 고객에게 일방적으로 불리한 해석을 내포하고 있습니다.\n",
      "8. 회원 자격 정지 및 카드 이용 제한(제19조) 조항에서는 신용등급이 하락한 경우 사전 통보 없이 고객 자격을 무단으로 정지하거나 일시정지를 할 수 있게 하여 고객의 이익과 권리를 과도하게 제한합니다. 이는 고객에게 불리한 결과를 초래하며 법적 요구 사항이나 신의성실 원칙에 부합하지 않습니다.\n",
      "9. 포인트 정정, 취소 및 소멸(제7조) 조항들은 해지와 탈퇴를 구분하지 않아 고객이 다른 유효한 카드를 보유하고 있음에도 불구하고 기존 포인트를 사용할 수 있는 권리를 상실할 수 있습니다. 이 조항들은 고객을 대신하여 공정하게 포인트를 관리해야 할 회사의 책임을 회피하려는 것으로 보이며, 고객에게 일방적으로 불리한 해석을 내포하고 있습니다.\n",
      "10. 회원 자격 정지 및 카드 이용 제한(제19조) 조항에서는 신용등급이 하락한 경우 사전 통보 없이 고객 자격을 무단으로 정지하거나 일시정지를 할 수 있게 하여 고객의 이익과 권리를 과도하게 제한합니다. 이는 고객에게 불리한 결과를 초래하며 법적 요구 사항이나 신의성실 원칙에 부합하지 않습니다.\n",
      "\n",
      "이러한 약관 조항들은 고객의 이익을 고려하지 않고 회사의 책임을 회피하려는 것으로 보이며, 신용등급이 하락한 경우 사전 통보 없이 고객 자격을 무단으로 정지하거나 일시정지를 할 수 있게 함으로써 고객에게 일방적으로 불리한 해석을 내포하고 있습니다. 이러한 조항들은 법적 요구 사항이나 신의성실 원칙에 부합하지 않으며 고객들에게 상당한 불이익을 줄 수 있으므로, 약관 조항들을 재검토하여 고객의 이익을 고려하고 회사의 책임을 공정하게 분담할 필요가 있습니다.\n"
     ]
    }
   ],
   "source": [
    "print(\"📥 여러 약관 조항을 한 줄씩 입력하세요. (빈 줄 입력 시 종료)\\n\")\n",
    "input_clauses = []\n",
    "while True:\n",
    "    line = input(\"조항: \")\n",
    "    if line.strip() == \"\":\n",
    "        break\n",
    "    input_clauses.append(line)\n",
    "\n",
    "labels = predict_unfairness(input_clauses)\n",
    "\n",
    "for clause, label in zip(input_clauses, labels):\n",
    "    if label == 1:\n",
    "        similar = get_similar_clauses(clause, top_k=5)\n",
    "        explanation = generate_explanation(clause, similar)\n",
    "\n",
    "        print(f\"\\n🔹 조항: {clause}\")\n",
    "        print(\"📎 유사 조항:\")\n",
    "        for i, s in enumerate(similar, 1):\n",
    "            print(f\"{i}. {s}\")\n",
    "        print(f\"\\n🧠 설명:\\n{explanation}\")\n",
    "\n",
    "    else:\n",
    "        print(f\"\\n🔹 조항: {clause}\")\n",
    "        print(\"✅ 유리한 조항으로 판단됨\")"
   ]
  },
  {
   "cell_type": "code",
   "execution_count": null,
   "id": "3927b9a7",
   "metadata": {},
   "outputs": [],
   "source": []
  }
 ],
 "metadata": {
  "kernelspec": {
   "display_name": ".venv",
   "language": "python",
   "name": "python3"
  },
  "language_info": {
   "codemirror_mode": {
    "name": "ipython",
    "version": 3
   },
   "file_extension": ".py",
   "mimetype": "text/x-python",
   "name": "python",
   "nbconvert_exporter": "python",
   "pygments_lexer": "ipython3",
   "version": "3.10.11"
  }
 },
 "nbformat": 4,
 "nbformat_minor": 5
}
