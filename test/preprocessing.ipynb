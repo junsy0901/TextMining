{
 "cells": [
  {
   "cell_type": "code",
   "execution_count": 8,
   "id": "ce36ac7e",
   "metadata": {},
   "outputs": [],
   "source": [
    "import os\n",
    "import json\n",
    "\n",
    "import pandas as pd\n",
    "import numpy as np\n",
    "\n",
    "import torch\n",
    "from transformers import AutoTokenizer, AutoModel\n",
    "import faiss"
   ]
  },
  {
   "cell_type": "code",
   "execution_count": null,
   "id": "6d81e68d",
   "metadata": {},
   "outputs": [
    {
     "name": "stdout",
     "output_type": "stream",
     "text": [
      "                  filename label  \\\n",
      "0     001_개인정보취급방침_가공.json    유리   \n",
      "1      001_결혼정보서비스_가공.json    유리   \n",
      "2           001_보증_가공.json    유리   \n",
      "3         001_사이버몰_가공.json    유리   \n",
      "4         001_상해보험_가공.json    유리   \n",
      "...                    ...   ...   \n",
      "7995     620_임대차계약_가공.json    불리   \n",
      "7996     621_임대차계약_가공.json    불리   \n",
      "7997     622_임대차계약_가공.json    불리   \n",
      "7998     623_임대차계약_가공.json    불리   \n",
      "7999     624_임대차계약_가공.json    불리   \n",
      "\n",
      "                                                   text  \\\n",
      "0     제2조(개인정보의 처리 및 보유기간) \\n① 협회는 법령에 따른 개인정보 보유․이용...   \n",
      "1     제3조 (회원가입)\\n① 회원이 되려고 하는 사람은 결혼관련 개인정보를 회사에 제공...   \n",
      "2     제2조(보증금액)\\n ① 이 보증서에 의한 보증금액은 채권자의 채무자에 대한 보증부...   \n",
      "3     제3조 (약관 등의 명시와 설명 및 개정)\\n① 몰은 이 약관의 내용과 상호 및 대...   \n",
      "4     제4조(보험금 지급에 관한 세부규정)\\n② 제3조(보험금의 지급사유) 제2호에서 장...   \n",
      "...                                                 ...   \n",
      "7995  제2조(임대료)\\n제2항 임대료 등의 연체시 매월 100분의 10에 해당하는 연체료...   \n",
      "7996  제12조(해약인정 및 보증금 등의 반환)\\n제2항 갑은 해약이 확정되면 즉시 을의 ...   \n",
      "7997  제17조(임대인의 금지사항)\\n제2항 을이 전항 및 제11조와 제14조에 위반 내지...   \n",
      "7998  제20조(임대인의 금지조항)\\n제1항 본 계약 각 조항의 해석상의 이의가 있는 경우...   \n",
      "7999  제19조(부당한 급부내용변경 및 이의제기금지)\\n제1항 임대인이 관리운영 등의 사유...   \n",
      "\n",
      "                                                  basis  \n",
      "0                                                  None  \n",
      "1                                                  None  \n",
      "2                                                  None  \n",
      "3                                                  None  \n",
      "4                                                  None  \n",
      "...                                                 ...  \n",
      "7995  매월 100분의 10은 연120퍼센트의 연체료율이 되어 이자제한법상 연25퍼센트를 ...  \n",
      "7996  점포를 재임대하여 반환하거나 또는 해약일로부터 3개월 이내에 임대보증금을 반환하되 ...  \n",
      "7997  임대차계약관계에서 임차인이 지켜야 할 사항을 게을리하거나 지키지 않는 경우 임대인은...  \n",
      "7998  해석상 이의가 있는 경우 임대인의 해석에 따르고 계약에 명시되지 않은 사항은 임대인...  \n",
      "7999  임차장소의 변경을 합의없이 임대인이 일방적으로 변경토록 하고 이의제기를 금지하고 있...  \n",
      "\n",
      "[8000 rows x 4 columns]\n"
     ]
    }
   ],
   "source": [
    "# 데이터 불러오기\n",
    "import os, json\n",
    "import pandas as pd\n",
    "\n",
    "def load_all_clauses_from_dir(root_dir):\n",
    "    records = []\n",
    "    for label in (\"유리\", \"불리\"):\n",
    "        folder = os.path.join(root_dir, label)\n",
    "        for fname in os.listdir(folder):\n",
    "            if not fname.endswith(\".json\"):\n",
    "                continue\n",
    "            path = os.path.join(folder, fname)\n",
    "            with open(path, \"r\", encoding=\"utf-8\") as f:\n",
    "                data = json.load(f)\n",
    "            text = \" \".join(data.get(\"clauseArticle\", []))\n",
    "            basis = \" \".join(data.get(\"illdcssBasiss\", [])) if label == \"불리\" else None\n",
    "            records.append({\n",
    "                \"filename\": fname,\n",
    "                \"label\": label,\n",
    "                \"text\": text,\n",
    "                \"basis\": basis\n",
    "            })\n",
    "    return pd.DataFrame(records)\n",
    "\n",
    "df = load_all_clauses_from_dir(\"../data/raw\")"
   ]
  },
  {
   "cell_type": "code",
   "execution_count": null,
   "id": "5c27d317",
   "metadata": {},
   "outputs": [
    {
     "name": "stdout",
     "output_type": "stream",
     "text": [
      "                  filename label  \\\n",
      "6000      026_신용카드_가공.json    불리   \n",
      "6001       026_예식업_가공.json    불리   \n",
      "6002     026_온라인게임_가공.json    불리   \n",
      "6003     026_임대차계약_가공.json    불리   \n",
      "6004  026_자동차리스및렌트_가공.json    불리   \n",
      "\n",
      "                                                   text  \\\n",
      "6000  제20조(회원자격정지 및 탈회)\\n제1항 카드사는 회원이 다음 각호의 1에 해당되는...   \n",
      "6001  제10조(계약해지 유보)\\n제1항 갑은 을의 권익을 보호하기 위하여 다음의 계약해지...   \n",
      "6002  제33조 재판권 및 준거법\\n제3항 서비스 이용으로 발생한 분쟁에 대해 소송이 제기...   \n",
      "6003  제 10 조(대금 정산) \\n을은 갑에게 계약과 동시 판매기 총금액의 약 30퍼센트...   \n",
      "6004  제4조(예약의 취소 등)\\n제3항 회원이 자신의 사정으로 임차예정 일시 직전 3시간...   \n",
      "\n",
      "                                                  basis  \\\n",
      "6000  신용카드사가 카드회원의 신용상태의 변화에 따라 회원자격을 정지하거나 카드사용을 일시...   \n",
      "6001  통상의 거래관행상 위약금은 총거래대금의 10퍼센트인 점과 소비자피해보상규정의 할인회...   \n",
      "6002       피청구인의 위 약관조항은 고객에 대하여 부당하게 불리한 재판관할의 합의조항이다.   \n",
      "6003  계약체결 후 기계가 발주됨을 전제로 총 거래대금의 30퍼센트를 손해배상액의 예정으로...   \n",
      "6004  해당 약관조항은 각 호에 열거된 사유에 해당하는 계약해지 시 대여요금을 반환하지 않...   \n",
      "\n",
      "                                              embedding  \n",
      "6000  [0.05259251222014427, -0.0011463719420135021, ...  \n",
      "6001  [0.04210704565048218, 0.010067804716527462, 0....  \n",
      "6002  [0.04117541015148163, 0.042475905269384384, 0....  \n",
      "6003  [-0.042922407388687134, 0.10661505162715912, 0...  \n",
      "6004  [0.01969737559556961, 0.022673409432172775, 0....  \n"
     ]
    }
   ],
   "source": [
    "# 불러온 데이터 확인\n",
    "mid_index = len(df) // 2 +2000\n",
    "print(df.iloc[mid_index:mid_index + 5])\n"
   ]
  },
  {
   "cell_type": "code",
   "execution_count": null,
   "id": "4adf1a1b",
   "metadata": {},
   "outputs": [
    {
     "data": {
      "text/plain": [
       "BertModel(\n",
       "  (embeddings): BertEmbeddings(\n",
       "    (word_embeddings): Embedding(8002, 768, padding_idx=1)\n",
       "    (position_embeddings): Embedding(512, 768)\n",
       "    (token_type_embeddings): Embedding(2, 768)\n",
       "    (LayerNorm): LayerNorm((768,), eps=1e-12, elementwise_affine=True)\n",
       "    (dropout): Dropout(p=0.1, inplace=False)\n",
       "  )\n",
       "  (encoder): BertEncoder(\n",
       "    (layer): ModuleList(\n",
       "      (0-11): 12 x BertLayer(\n",
       "        (attention): BertAttention(\n",
       "          (self): BertSdpaSelfAttention(\n",
       "            (query): Linear(in_features=768, out_features=768, bias=True)\n",
       "            (key): Linear(in_features=768, out_features=768, bias=True)\n",
       "            (value): Linear(in_features=768, out_features=768, bias=True)\n",
       "            (dropout): Dropout(p=0.1, inplace=False)\n",
       "          )\n",
       "          (output): BertSelfOutput(\n",
       "            (dense): Linear(in_features=768, out_features=768, bias=True)\n",
       "            (LayerNorm): LayerNorm((768,), eps=1e-12, elementwise_affine=True)\n",
       "            (dropout): Dropout(p=0.1, inplace=False)\n",
       "          )\n",
       "        )\n",
       "        (intermediate): BertIntermediate(\n",
       "          (dense): Linear(in_features=768, out_features=3072, bias=True)\n",
       "          (intermediate_act_fn): GELUActivation()\n",
       "        )\n",
       "        (output): BertOutput(\n",
       "          (dense): Linear(in_features=3072, out_features=768, bias=True)\n",
       "          (LayerNorm): LayerNorm((768,), eps=1e-12, elementwise_affine=True)\n",
       "          (dropout): Dropout(p=0.1, inplace=False)\n",
       "        )\n",
       "      )\n",
       "    )\n",
       "  )\n",
       "  (pooler): BertPooler(\n",
       "    (dense): Linear(in_features=768, out_features=768, bias=True)\n",
       "    (activation): Tanh()\n",
       "  )\n",
       ")"
      ]
     },
     "execution_count": 11,
     "metadata": {},
     "output_type": "execute_result"
    }
   ],
   "source": [
    "# 언어 모델 불러오기\n",
    "import torch\n",
    "from transformers import BertModel, AutoTokenizer\n",
    "\n",
    "MODEL_NAME = \"skt/kobert-base-v1\"\n",
    "\n",
    "tokenizer = AutoTokenizer.from_pretrained(MODEL_NAME, use_fast=False)\n",
    "model = BertModel.from_pretrained(MODEL_NAME)\n",
    "model.eval()\n",
    "\n",
    "device = \"cuda\" if torch.cuda.is_available() else \"cpu\"\n",
    "model.to(device)"
   ]
  },
  {
   "cell_type": "code",
   "execution_count": null,
   "id": "b6b7346f",
   "metadata": {},
   "outputs": [],
   "source": [
    "# 텍스트 임베딩 함수\n",
    "# 자꾸 뻑나서 안 씀\n",
    "def embed_texts(texts, model, tokenizer, batch_size=16, max_length=512):\n",
    "    \"\"\"\n",
    "    texts: list of str\n",
    "    returns: np.ndarray of shape (len(texts), hidden_size)\n",
    "    \"\"\"\n",
    "    all_embeds = []\n",
    "    for i in range(0, len(texts), batch_size):\n",
    "        batch = texts[i : i + batch_size]\n",
    "        encoded = tokenizer(\n",
    "            batch,\n",
    "            padding=True,\n",
    "            truncation=True,\n",
    "            max_length=max_length,\n",
    "            return_tensors=\"pt\"\n",
    "        )\n",
    "        if torch.cuda.is_available():\n",
    "            encoded = {k:v.to(\"cuda\") for k,v in encoded.items()}\n",
    "        with torch.no_grad():\n",
    "            out = model(**encoded)\n",
    "        cls_embeds = out.last_hidden_state[:, 0, :].cpu().numpy()\n",
    "        all_embeds.append(cls_embeds)\n",
    "    return np.vstack(all_embeds)\n"
   ]
  },
  {
   "cell_type": "code",
   "execution_count": null,
   "id": "bc3e8c2a",
   "metadata": {},
   "outputs": [],
   "source": [
    "# FAISS 인덱스\n",
    "def build_faiss_index(embeddings: np.ndarray) -> faiss.Index:\n",
    "    \"\"\"\n",
    "    embeddings: (N, D) float32 numpy array\n",
    "    returns: FAISS index for cosine similarity\n",
    "    \"\"\"\n",
    "    faiss.normalize_L2(embeddings)\n",
    "    dim = embeddings.shape[1]\n",
    "    index = faiss.IndexFlatIP(dim)\n",
    "    index.add(embeddings)\n",
    "    return index\n"
   ]
  },
  {
   "cell_type": "code",
   "execution_count": null,
   "id": "14a76228",
   "metadata": {},
   "outputs": [
    {
     "name": "stdout",
     "output_type": "stream",
     "text": [
      "dataset max seq_len = 993 (at idx 6339)\n",
      "model.max_position_embeddings = 512\n"
     ]
    }
   ],
   "source": [
    "# 모델이 지원하는 최대 위치 임베딩 길이\n",
    "# 왜 뻑나는지 확인\n",
    "max_len = model.config.max_position_embeddings  \n",
    "max_seq = 0\n",
    "max_idx = None\n",
    "\n",
    "for i, text in enumerate(df[\"text\"].fillna(\"\").astype(str)):\n",
    "    enc = tokenizer(text, return_tensors=\"pt\", truncation=False, padding=False)\n",
    "    seq_len = enc[\"input_ids\"].size(1)\n",
    "    if seq_len > max_seq:\n",
    "        max_seq, max_idx = seq_len, i\n",
    "\n",
    "print(f\"dataset max seq_len = {max_seq} (at idx {max_idx})\")\n",
    "print(f\"model.max_position_embeddings = {max_len}\")\n"
   ]
  },
  {
   "cell_type": "code",
   "execution_count": null,
   "id": "21ca505f",
   "metadata": {},
   "outputs": [
    {
     "name": "stderr",
     "output_type": "stream",
     "text": [
      "c:\\Users\\user\\Documents\\JSY\\KW\\3-1\\TextMining\\test\\venv\\Lib\\site-packages\\huggingface_hub\\file_download.py:143: UserWarning: `huggingface_hub` cache-system uses symlinks by default to efficiently store duplicated files but your machine does not support them in C:\\Users\\user\\.cache\\huggingface\\hub\\models--sentence-transformers--all-MiniLM-L6-v2. Caching files will still work but in a degraded version that might require more space on your disk. This warning can be disabled by setting the `HF_HUB_DISABLE_SYMLINKS_WARNING` environment variable. For more details, see https://huggingface.co/docs/huggingface_hub/how-to-cache#limitations.\n",
      "To support symlinks on Windows, you either need to activate Developer Mode or to run Python as an administrator. In order to activate developer mode, see this article: https://docs.microsoft.com/en-us/windows/apps/get-started/enable-your-device-for-development\n",
      "  warnings.warn(message)\n",
      "Xet Storage is enabled for this repo, but the 'hf_xet' package is not installed. Falling back to regular HTTP download. For better performance, install the package with: `pip install huggingface_hub[hf_xet]` or `pip install hf_xet`\n",
      "Batches: 100%|██████████| 250/250 [03:55<00:00,  1.06it/s]\n"
     ]
    },
    {
     "name": "stdout",
     "output_type": "stream",
     "text": [
      "임베딩 shape: (8000, 384)\n"
     ]
    }
   ],
   "source": [
    "from sentence_transformers import SentenceTransformer\n",
    "# 뻑나는 함수 대신 다른 모델 가져와서 임베딩함\n",
    "\n",
    "# 가벼운 CPU용 모델로 불러오기\n",
    "sbert = SentenceTransformer(\"all-MiniLM-L6-v2\", device=\"cpu\")\n",
    "\n",
    "# 텍스트 리스트 준비\n",
    "texts = df[\"text\"].fillna(\"\").astype(str).tolist()\n",
    "\n",
    "# 배치 사이즈 32로, 진행바 띄워가며 임베딩 생성\n",
    "embeddings = sbert.encode(\n",
    "    texts,\n",
    "    batch_size=32,\n",
    "    show_progress_bar=True,\n",
    "    convert_to_numpy=True\n",
    ")\n",
    "\n",
    "# float32 변환 후 DataFrame에 추가\n",
    "df[\"embedding\"] = embeddings.astype(\"float32\").tolist()\n",
    "\n",
    "print(\"임베딩 shape:\", embeddings.shape)\n"
   ]
  },
  {
   "cell_type": "code",
   "execution_count": 27,
   "id": "b061ffc1",
   "metadata": {},
   "outputs": [
    {
     "name": "stdout",
     "output_type": "stream",
     "text": [
      "FAISS index total vectors: 8000\n",
      "Rank 1: (label=유리, sim=1.0000)\n",
      "  text : 제2조(개인정보의 처리 및 보유기간) \n",
      "① 협회는 법령에 따른 개인정보 보유․이용기간 또는…\n",
      "\n",
      "Rank 2: (label=유리, sim=0.9307)\n",
      "  text : 제2조(개인정보의 처리 및 보유기간) \n",
      "① 개인정보처리자명은(는) 법령에 따른 개인정보 보…\n",
      "\n",
      "Rank 3: (label=유리, sim=0.9275)\n",
      "  text : 제2조(개인정보의 처리 및 보유기간) \n",
      "① 개인정보처리자명은 법령에 따른 개인정보 보유, …\n",
      "\n",
      "Rank 4: (label=유리, sim=0.8989)\n",
      "  text : 제5조(정보주체와 법정대리인의 권리의무 및 행사방법)\n",
      "⑤ 개인정보의 정정 및 삭제 요구는 …\n",
      "\n",
      "Rank 5: (label=유리, sim=0.8846)\n",
      "  text : 제30조(청구 절차 및 유의 사항) \n",
      "④ 보험회사는 손해배상청구에 관한 서류 등을 받았을 …\n",
      "\n"
     ]
    }
   ],
   "source": [
    "# 인덱스 구축\n",
    "index = build_faiss_index(embeddings)\n",
    "print(\"FAISS index total vectors:\", index.ntotal)\n",
    "\n",
    "# 첫 번째 항목으로 Top-5 검색\n",
    "D, I = index.search(embeddings[:1], k=5)\n",
    "for rank, idx in enumerate(I[0]):\n",
    "    sim   = D[0][rank]\n",
    "    label = df.loc[idx, \"label\"]\n",
    "    text  = df.loc[idx, \"text\"][:50] + \"…\"\n",
    "    basis = df.loc[idx, \"basis\"][:50] + \"…\" if df.loc[idx, \"basis\"] else \"\"\n",
    "    print(f\"Rank {rank+1}: (label={label}, sim={sim:.4f})\")\n",
    "    print(f\"  text : {text}\")\n",
    "    if basis:\n",
    "        print(f\"  basis: {basis}\")\n",
    "    print()\n"
   ]
  },
  {
   "cell_type": "code",
   "execution_count": null,
   "id": "dcc8eef0",
   "metadata": {},
   "outputs": [],
   "source": []
  },
  {
   "cell_type": "code",
   "execution_count": null,
   "id": "e3adb79e",
   "metadata": {},
   "outputs": [],
   "source": [
    "# (1) 각 텍스트의 토큰 길이 확인\n",
    "for i, text in enumerate(texts):\n",
    "    tokens = tokenizer(text, return_tensors=\"pt\", truncation=False, padding=False)\n",
    "    print(f\"[토큰 길이] idx={i}, tokens.input_ids.shape = {tokens['input_ids'].shape}\")\n",
    "\n",
    "# (2) 임베딩 생성(뻑나는 부분)\n",
    "embeddings = embed_texts(texts=texts, model=model, tokenizer=tokenizer)\n",
    "\n",
    "# (3) 반환된 embeddings 리스트의 각 원소 shape 확인\n",
    "for i, emb in enumerate(embeddings):\n",
    "    arr = np.array(emb)\n",
    "    print(f\"[임베딩 shape] idx={i}, arr.shape = {arr.shape}\")\n"
   ]
  }
 ],
 "metadata": {
  "kernelspec": {
   "display_name": "venv",
   "language": "python",
   "name": "python3"
  },
  "language_info": {
   "codemirror_mode": {
    "name": "ipython",
    "version": 3
   },
   "file_extension": ".py",
   "mimetype": "text/x-python",
   "name": "python",
   "nbconvert_exporter": "python",
   "pygments_lexer": "ipython3",
   "version": "3.12.2"
  }
 },
 "nbformat": 4,
 "nbformat_minor": 5
}
