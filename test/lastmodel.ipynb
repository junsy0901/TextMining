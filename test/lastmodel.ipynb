{
 "cells": [
  {
   "cell_type": "markdown",
   "id": "332b0304",
   "metadata": {},
   "source": [
    "# 🔗 유불리 판단 + 유사 조항 검색 + Ollama 기반 LLM 설명 생성"
   ]
  },
  {
   "cell_type": "code",
   "execution_count": 1,
   "id": "7ce7ee26",
   "metadata": {},
   "outputs": [
    {
     "name": "stderr",
     "output_type": "stream",
     "text": [
      "c:\\Users\\user\\Documents\\JSY\\KW\\3-1\\TextMining\\TextMining\\venv\\Lib\\site-packages\\tqdm\\auto.py:21: TqdmWarning: IProgress not found. Please update jupyter and ipywidgets. See https://ipywidgets.readthedocs.io/en/stable/user_install.html\n",
      "  from .autonotebook import tqdm as notebook_tqdm\n"
     ]
    }
   ],
   "source": [
    "import pandas as pd\n",
    "import torch\n",
    "from sentence_transformers import SentenceTransformer, util\n",
    "from transformers import AutoTokenizer, AutoModelForSequenceClassification\n",
    "from langchain.chains import LLMChain\n",
    "from langchain.prompts import PromptTemplate\n",
    "from langchain_community.chat_models import ChatOllama\n"
   ]
  },
  {
   "cell_type": "code",
   "execution_count": 2,
   "id": "015cc538",
   "metadata": {},
   "outputs": [],
   "source": [
    "# 유불리 판단 모델\n",
    "classifier_model = AutoModelForSequenceClassification.from_pretrained(\"classification_model\")\n",
    "classifier_tokenizer = AutoTokenizer.from_pretrained(\"classification_model\")\n",
    "\n",
    "# 의미 임베딩 모델\n",
    "semantic_model = SentenceTransformer(\"legal-kr-sbert-contrastive\")\n",
    "\n",
    "# 임베딩 데이터셋 로드\n",
    "dataset = torch.load(\"embedding_dataset.pt\", map_location=torch.device('cpu'))\n",
    "texts = dataset[\"texts\"]\n",
    "embeddings = dataset[\"embeddings\"]\n"
   ]
  },
  {
   "cell_type": "code",
   "execution_count": 3,
   "id": "b5806049",
   "metadata": {},
   "outputs": [],
   "source": [
    "def predict_unfairness(clauses):\n",
    "    inputs = classifier_tokenizer(clauses, padding=True, truncation=True, return_tensors=\"pt\")\n",
    "    outputs = classifier_model(**inputs)\n",
    "    preds = torch.argmax(outputs.logits, dim=1)\n",
    "    return preds.tolist()  # 0: 유리, 1: 불리"
   ]
  },
  {
   "cell_type": "code",
   "execution_count": 4,
   "id": "415a1e3f",
   "metadata": {},
   "outputs": [],
   "source": [
    "import pandas as pd\n",
    "\n",
    "# labeled.csv 읽기\n",
    "df = pd.read_csv(\"labeled.csv\")  # 또는 정확한 경로"
   ]
  },
  {
   "cell_type": "code",
   "execution_count": 5,
   "id": "68942fc6",
   "metadata": {},
   "outputs": [],
   "source": [
    "def get_similar_clauses(query, top_k=5):\n",
    "    query_emb = semantic_model.encode(query, convert_to_tensor=True)\n",
    "    cos_scores = util.pytorch_cos_sim(query_emb, embeddings)[0]\n",
    "    top_results = torch.topk(cos_scores, k=top_k)\n",
    "\n",
    "    results = []\n",
    "    for idx in top_results.indices:\n",
    "        clause = texts[idx]\n",
    "        # labeled.csv에서 basis 찾기\n",
    "        matched = df[df[\"text\"] == clause]\n",
    "        basis = matched[\"basis\"].values[0] if not matched.empty else \"\"\n",
    "        results.append({\"clause\": clause, \"basis\": basis})\n",
    "    \n",
    "    return results\n"
   ]
  },
  {
   "cell_type": "code",
   "execution_count": 6,
   "id": "a47cc600",
   "metadata": {},
   "outputs": [
    {
     "name": "stderr",
     "output_type": "stream",
     "text": [
      "C:\\Users\\user\\AppData\\Local\\Temp\\ipykernel_14284\\2084197299.py:2: LangChainDeprecationWarning: The class `ChatOllama` was deprecated in LangChain 0.3.1 and will be removed in 1.0.0. An updated version of the class exists in the :class:`~langchain-ollama package and should be used instead. To use it run `pip install -U :class:`~langchain-ollama` and import as `from :class:`~langchain_ollama import ChatOllama``.\n",
      "  llm = ChatOllama(model=\"anpigon/EEVE-Korean-10.8B:latest\")\n",
      "C:\\Users\\user\\AppData\\Local\\Temp\\ipykernel_14284\\2084197299.py:19: LangChainDeprecationWarning: The class `LLMChain` was deprecated in LangChain 0.1.17 and will be removed in 1.0. Use :meth:`~RunnableSequence, e.g., `prompt | llm`` instead.\n",
      "  llm_chain = LLMChain(llm=llm, prompt=prompt_template)\n"
     ]
    }
   ],
   "source": [
    "# Ollama LLM 설정\n",
    "llm = ChatOllama(model=\"anpigon/EEVE-Korean-10.8B:latest\")\n",
    "\n",
    "# 프롬프트 템플릿\n",
    "prompt_template = PromptTemplate(\n",
    "    input_variables=[\"clause\", \"similar\"],\n",
    "    template=\"\"\"다음은 서비스 약관의 조항입니다:\n",
    "\n",
    "조항:\n",
    "{clause}\n",
    "\n",
    "유사한 조항들:\n",
    "{similar}\n",
    "\n",
    "이 조항이 왜 불리한지 설명해 주세요.\n",
    "\"\"\"\n",
    ")\n",
    "\n",
    "llm_chain = LLMChain(llm=llm, prompt=prompt_template)\n",
    "\n",
    "# 설명 생성 함수\n",
    "def generate_explanation(clause, similar_clauses):\n",
    "    similar_text = \"\\n\\n\".join(\n",
    "        [f\"- 조항:\\n{item['clause']}\\n설명:\\n{item.get('basis', '')}\" for item in similar_clauses]\n",
    "    )\n",
    "\n",
    "    return llm_chain.run({\n",
    "        \"clause\": clause,\n",
    "        \"similar\": similar_text\n",
    "    })"
   ]
  },
  {
   "cell_type": "code",
   "execution_count": 7,
   "id": "94d68b26",
   "metadata": {},
   "outputs": [
    {
     "name": "stdout",
     "output_type": "stream",
     "text": [
      "📥 여러 약관 조항을 한 줄씩 입력하세요. (빈 줄 입력 시 종료)\n",
      "\n"
     ]
    },
    {
     "name": "stderr",
     "output_type": "stream",
     "text": [
      "C:\\Users\\user\\AppData\\Local\\Temp\\ipykernel_14284\\2084197299.py:27: LangChainDeprecationWarning: The method `Chain.run` was deprecated in langchain 0.1.0 and will be removed in 1.0. Use :meth:`~invoke` instead.\n",
      "  return llm_chain.run({\n"
     ]
    },
    {
     "name": "stdout",
     "output_type": "stream",
     "text": [
      "\n",
      "🔹 조항: 제10조(포인트 정정, 취소, 소멸)\\n제5항 본 조 제3항에도 불구하고 본 약관 제7조 제1항 및 제2항에 따라 카드 탈퇴 및 자격상실된회원은 포인트가 소멸되고, 이에 대하여 회원은 어떠한 권리 주장할 수 없습니다. \\n000의 경우, 기존 포인트 약관상  카드 해지 와  탈회 를 별도로 구분하지 아니하고,  탈퇴 라는 포괄적인 용어를 사용하였음.\n",
      "📎 유사 조항:\n",
      "1. {'clause': '(000 회원약관)\\n제10조(포인트 정정, 취소, 소멸)\\n제5항 본 조 제3항에도 불구하고 본 약관 제7조 제1항 및 제2항에 따라 카드 탈퇴 및 자격상실된 회원은 포인트가 소멸되고, 이에 대하여 회원은 어떠한 권리 주장할 수 없습니다.', 'basis': '특정 카드를 해지한 고객은 유효한 다른 카드를 이용하여 여전히 잔여포인트를 정상적으로 사용할 수 있는바, 해지 카드의 잔여포인트의 경우 해지 전 포인트와 그 취급을 달리할 특별한 이유가 존재하지 아니한다.'}\n",
      "2. {'clause': '제9조(현금서비스)\\n제5항 현금서비스금액과 동 수수료, 기타 이용수수료의 결제시기 및 방법은 제14조의 카드이용대금 결제방식과 같습니다.\\n제14조(대금결제)\\n제1항  회원은 카드이용대금과 이에 수반되는 모든 수수료를 카드사가 정하는 대금결제일에 자동대체 결제방법 또는 카드사 또는 카드사와 제휴한 기관에 직접납부하는 방법에 의하여 결제하여야 하며 대금결제일은 결제가능일 중에서 회원이 원하는 날로 지정할 수 있습니다.', 'basis': '현금서비스는 카드회원에게 단기간 소액의 금전을 간편하게 융자해주고자 하는 특수목적이 있기는 하나, 그 실질은 대출기간에 따라 수수료를 차등 있게 부과하는 금전사용대차계약에 해당되므로 상환액이나 상환방법 등에 있어서 일반금융대출과 달리 취급될 이유는 없다.  현금서비스의 경우는 일반금융대출에 비해 고율의 수수료가 부과되고 있으므로 고객들의 중도상환 요구가 많을 뿐만 아니라 상환에 따른 실익 또한 크다. 고객이 현금서비스를 받은 후 결제일전 일부금액을 상환하고자 할 경우에는 중도상환이 제한되어 일부금액을 상환하고자 하는 고객으로서는 동 금액에 해당하는 만큼의 결제일까지의 수수료를 추가로 부담해야 하는 바, 이는 고객에게 부당하게 불리한 조항이다.'}\n",
      "3. {'clause': '제7조(현금서비스)\\n제5항  현금서비스금액과 동 수수료 및 이용수수료의 결제시기 및 방법은 제13조의 대금결제방식과 같습니다.\\n제13조(대금결제)\\n제1항 회원은 카드이용대금과 이에 수반되는 모든 수수료를 지정된 대금결제일에 자동대체결제방법 또는 회사본ㆍ지점에 직접지급하거나 은행의 지로창구를 이용한 회사의 지로계좌에 입금하는 방법으로 결제하여야 하며 대금결제일은 결제가능일 중에서 회원이 회원이 원하는 날로 지정할 수 있습니다.', 'basis': '현금서비스는 카드회원에게 단기간 소액의 금전을 간편하게 융자해주고자 하는 특수목적이 있기는 하나, 그 실질은 대출기간에 따라 수수료를 차등 있게 부과하는 금전사용대차계약에 해당되므로 상환액이나 상환방법 등에 있어서 일반금융대출과 달리 취급될 이유는 없다. 현금서비스의 경우는 일반금융대출에 비해 고율의 수수료가 부과되고 있으므로 고객들의 중도상환 요구가 많을 뿐만 아니라 상환에 따른 실익 또한 크다.\\n 고객이 현금서비스를 받은 후 결제일전 일부금액을 상환하고자 할 경우에는 중도상환이 제한되어 일부금액을 상환하고자 하는 고객으로서는 동 금액에 해당하는 만큼의 결제일까지의 수수료를 추가로 부담해야 하는 바, 이는 고객에게 부당하게 불리한 조항이다.'}\n",
      "4. {'clause': '제7조(현금서비스)\\n제5항 현금서비스 금액과 동 수수료, 기타 이용수수료의 결제시기 및 방법은 제13조의 카드이용대금 결제방식과 같습니다. 다만, 제13조의 결제일이 도래하기전이라도 회원은 현금서비스 금액 전액을 갚을 수 있으며, 이에 수반되는 수수료는 카드사가 정합니다.', 'basis': '현금서비스는 카드회원에게 단기간 소액의 금전을 간편하게 융자해주고자 하는 특수목적이 있기는 하나, 그 실질은 대출기간에 따라 수수료를 차등 있게 부과하는 금전사용대차계약에 해당되므로 상환액이나 상환방법 등에 있어서 일반금융대출과 달리 취급될 이유는 없다. 더욱이 현금서비스의 경우는 일반금융대출에 비해 고율의 수수료가 부과되고 있으므로 고객들의 중도상환 요구가 많을 뿐만 아니라 상환에 따른 실익 또한 크다. 고객이 현금서비스를 받은 후 결제일전 일부금액을 상환하고자 할 경우에는 중도상환 자체가 제한되어 일부금액을 상환하고자 하는 고객으로서는 동 금액에 해당하는 만큼의 결제일까지의 수수료를 추가로 부담해야 하는 바, 이는 고객에게 부당하게 불리한 조항이다.'}\n",
      "5. {'clause': '제7조(현금서비스)\\n제5항 현금서비스금액과 동 수수료, 기타이용수수료의 결제시기 및 방법은 제13조의 카드이용대금 결제방식과 같습니다.\\n제13조(대금결제)\\n제1항  회원은 카드이용대금과 이에 수반되는 모든 수수료를 카드사가 정하는 대금결제일에 자동대체결제방법 또는 카드사 본․지점에 직접납부하거나 은행의 지로창구를 이용한 카드사의 지로계좌에 입금하는 방법에 의하여 결재하여야 하며, 대금결제일은 결제가능일 중에서 회원이 원하는 날로 지정할 수 있습니다.', 'basis': '현금서비스는 성격상 카드회원에게 단기간소액의 금전을 간편하게 융자해주고자 하는 특수목적이 있어, 피청구인은 할부금융이나 대출과는 다르다고 하고 있으나, 그 실질은 금전사용대차이고, 대출기간에 따라 이자를 납부하는 것이 사실이다. 통상의 금융대출은 대출기간에 관계없이 채무자의 경제사정 호전 등으로 상환할 수 있는 능력이 생겼을 때 언제든지 상환하고, 상환일 이후의 이자에 대하여는 책임을 지지 않음이 원칙으로 그 기간까지의 이자를 부담하는 것이 관례이다.  현금서비스를 받으면 중도에 상환할 수 없고, 지정된 카드대금 납부일에만 상환할 수 있도록 되어 있으며, 더욱이 중도에 상환한다하더라도 카드대금납부일까지의 이자를 전액 부담하도록 되어있다.'}\n",
      "\n",
      "🧠 설명:\n",
      "해당 조항은 현금서비스를 이용한 고객이 지정된 납부일까지 일시불로 전액 상환하지 못할 경우, 결제일까지의 추가 이자를 지불해야 하기 때문에 불리합니다. 이는 통상적인 금융 대출과 달리, 상환 기간이 정해져 있지 않고 경제 상황이 호전되어도 언제든지 상환할 수 있는 방식과는 다릅니다. 현금서비스에 대해 고객이 납부하는 이자율은 일반 신용카드를 이용한 거래보다 높아 고객의 상환 부담이 더 클 수 있습니다.\n",
      "\n",
      "결제일 전에 일부 금액만 상환하려고 할 경우, 고객은 해당 금액에 대한 결제일까지의 이자 전액을 부담해야 합니다. 이는 중도 상환이 제한되어 있고 동액에 해당하는 만큼 추가 이자를 납부해야 한다는 점을 고려할 때 고객에게 불리한 조항입니다. 고객이 중도에 상환할 수 있는 선택권을 제공하지 않고, 정해진 납부일 전에 일부 금액만 상환하려고 할 경우 높은 이자율을 적용받는 것은 공정하지 않습니다.\n",
      "\n",
      "또한, 지정된 결제일은 고객이 원하는 날로 선택할 수 있지만, 이것이 반드시 고객의 최선의 이익에 부합하는 것은 아닐 수 있습니다. 고객에게 현금서비스 금액을 즉시 전액 상환할 것을 요구함으로써, 고객은 다른 필요나 비상사태를 위한 자금이 부족해질 위험이 생깁니다.\n",
      "\n",
      "결론적으로 해당 조항은 고객의 금융 상황과 필요에 대한 유연성이 제한되어 있고, 높은 이자율로 인해 추가 부담이 발생하기 때문에 불리합니다. 이 조항을 수정하여 고객이 현금서비스 금액을 중도 상환할 수 있도록 하고 지정된 납부일 전에 일부 금액만 상환할 경우 부과되는 이자율을 조정하는 것이 바람직할 것입니다.\n"
     ]
    }
   ],
   "source": [
    "print(\"📥 여러 약관 조항을 한 줄씩 입력하세요. (빈 줄 입력 시 종료)\\n\")\n",
    "input_clauses = []\n",
    "while True:\n",
    "    line = input(\"조항: \")\n",
    "    if line.strip() == \"\":\n",
    "        break\n",
    "    input_clauses.append(line)\n",
    "\n",
    "labels = predict_unfairness(input_clauses)\n",
    "\n",
    "for clause, label in zip(input_clauses, labels):\n",
    "    if label == 1:\n",
    "        similar = get_similar_clauses(clause, top_k=5)\n",
    "        explanation = generate_explanation(clause, similar)\n",
    "\n",
    "        print(f\"\\n🔹 조항: {clause}\")\n",
    "        print(\"📎 유사 조항:\")\n",
    "        for i, s in enumerate(similar, 1):\n",
    "            print(f\"{i}. {s}\")\n",
    "        print(f\"\\n🧠 설명:\\n{explanation}\")\n",
    "\n",
    "    else:\n",
    "        print(f\"\\n🔹 조항: {clause}\")\n",
    "        print(\"✅ 유리한 조항으로 판단됨\")"
   ]
  }
 ],
 "metadata": {
  "kernelspec": {
   "display_name": "venv",
   "language": "python",
   "name": "python3"
  },
  "language_info": {
   "codemirror_mode": {
    "name": "ipython",
    "version": 3
   },
   "file_extension": ".py",
   "mimetype": "text/x-python",
   "name": "python",
   "nbconvert_exporter": "python",
   "pygments_lexer": "ipython3",
   "version": "3.12.2"
  }
 },
 "nbformat": 4,
 "nbformat_minor": 5
}
